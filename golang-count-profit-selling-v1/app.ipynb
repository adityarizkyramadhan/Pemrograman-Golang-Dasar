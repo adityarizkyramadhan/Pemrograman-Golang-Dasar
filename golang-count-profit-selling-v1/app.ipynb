{
 "cells": [
  {
   "cell_type": "code",
   "execution_count": 38,
   "metadata": {},
   "outputs": [
    {
     "data": {
      "text/plain": [
       "[[[1000, 500], [500, 150], [600, 100], [800, 750]]]"
      ]
     },
     "execution_count": 38,
     "metadata": {},
     "output_type": "execute_result"
    }
   ],
   "source": [
    "# datas = [[[1000, 800],[700, 500]], [[1000, 800],[900, 200]]]\n",
    "datas = [[[1000, 500], [500, 150], [600, 100], [800, 750]]]\n",
    "# datas = [[[1000, 200]], [[500, 100]], [[600, 100]], [[450, 150]],[[100, 50]]]\n",
    "datas"
   ]
  },
  {
   "cell_type": "code",
   "execution_count": 39,
   "metadata": {},
   "outputs": [
    {
     "data": {
      "text/plain": [
       "[0, 0, 0, 0]"
      ]
     },
     "execution_count": 39,
     "metadata": {},
     "output_type": "execute_result"
    }
   ],
   "source": [
    "\n",
    "result = [0] * len(datas[0])\n",
    "result\n"
   ]
  },
  {
   "cell_type": "code",
   "execution_count": 40,
   "metadata": {},
   "outputs": [],
   "source": [
    "for data in datas:\n",
    "  # print(data)\n",
    "  for index, bulan in enumerate(data):\n",
    "    # print(f\"Index: {index}, Value: {bulan}\")\n",
    "    # print(result[index])\n",
    "    result[index] = result[index] + bulan[0] - bulan[1]"
   ]
  },
  {
   "cell_type": "code",
   "execution_count": 41,
   "metadata": {},
   "outputs": [
    {
     "data": {
      "text/plain": [
       "[500, 350, 500, 50]"
      ]
     },
     "execution_count": 41,
     "metadata": {},
     "output_type": "execute_result"
    }
   ],
   "source": [
    "result"
   ]
  }
 ],
 "metadata": {
  "kernelspec": {
   "display_name": "Python 3",
   "language": "python",
   "name": "python3"
  },
  "language_info": {
   "codemirror_mode": {
    "name": "ipython",
    "version": 3
   },
   "file_extension": ".py",
   "mimetype": "text/x-python",
   "name": "python",
   "nbconvert_exporter": "python",
   "pygments_lexer": "ipython3",
   "version": "3.9.10"
  }
 },
 "nbformat": 4,
 "nbformat_minor": 2
}
